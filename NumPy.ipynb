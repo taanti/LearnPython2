{
 "cells": [
  {
   "cell_type": "markdown",
   "id": "4674b2db",
   "metadata": {},
   "source": [
    "### NumPy \n",
    "\n",
    "- NumPy is a Python library for numerical computing.\n",
    "- It offers support for large, multi-dimensional arrays and matrices.\n",
    "- NumPy provides mathematical functions to operate on arrays efficiently.\n",
    "- Widely used in scientific computing, engineering, data science, and machine learning.\n",
    "- Key features include multidimensional arrays, array operations, broadcasting, vectorized operations, linear algebra functions, and random number generation."
   ]
  },
  {
   "cell_type": "code",
   "execution_count": 1,
   "id": "fa3897cc",
   "metadata": {},
   "outputs": [],
   "source": [
    "#import Numpy\n",
    "\n",
    "import numpy as np"
   ]
  },
  {
   "cell_type": "markdown",
   "id": "2f863608",
   "metadata": {},
   "source": [
    "This line imports the NumPy library and assigns it the alias np. The use of the alias np is a standard convention in the Python community when working with NumPy. Once this import statement is executed, you can access NumPy functions and classes by prefixing them with np."
   ]
  },
  {
   "cell_type": "code",
   "execution_count": 2,
   "id": "4aa30f49",
   "metadata": {},
   "outputs": [
    {
     "name": "stdout",
     "output_type": "stream",
     "text": [
      "1.26.4\n"
     ]
    }
   ],
   "source": [
    "#checking NumPy Version\n",
    "\n",
    "print (np.__version__)"
   ]
  },
  {
   "cell_type": "markdown",
   "id": "9418e690",
   "metadata": {},
   "source": [
    "This statement indicates that you have NumPy version 1.24.3 installed. Verifying the version is important because different versions of a library may introduce new features, bug fixes, or enhancements. Checking the version helps you ensure compatibility with your code and other libraries. Additionally, it enables you to stay informed about updates and potential compatibility issues."
   ]
  },
  {
   "cell_type": "markdown",
   "id": "0714a1fe",
   "metadata": {},
   "source": [
    "### NumPy array (Ndarray)\n",
    " \n",
    "- Ndarray is the core data type in NumPy.\n",
    "- It represents n-dimensional arrays.\n",
    "- Ndarray allows efficient storage and manipulation of multidimensional data.\n",
    "- NumPy arrays provide optimized mathematical operations.\n",
    "- They offer enhanced performance compared to Python lists."
   ]
  },
  {
   "cell_type": "code",
   "execution_count": 3,
   "id": "34cffef8",
   "metadata": {},
   "outputs": [
    {
     "name": "stdout",
     "output_type": "stream",
     "text": [
      "Array from list:\n",
      "[1 2 3 4 5]\n",
      "<class 'numpy.ndarray'>\n"
     ]
    }
   ],
   "source": [
    "# List\n",
    "list_data = [1, 2, 3, 4, 5]\n",
    "array_from_list = np.array(list_data)\n",
    "print(\"Array from list:\")\n",
    "print(array_from_list)\n",
    "print(type(array_from_list)) #Check Type array"
   ]
  },
  {
   "cell_type": "code",
   "execution_count": 4,
   "id": "6bb95b3d",
   "metadata": {},
   "outputs": [
    {
     "name": "stdout",
     "output_type": "stream",
     "text": [
      "\n",
      "Array from tuple:\n",
      "[ 6  7  8  9 10]\n",
      "<class 'numpy.ndarray'>\n"
     ]
    }
   ],
   "source": [
    "# Tuple\n",
    "tuple_data = (6, 7, 8, 9, 10)\n",
    "array_from_tuple = np.array(tuple_data)\n",
    "print(\"\\nArray from tuple:\")\n",
    "print(array_from_tuple)\n",
    "print(type(array_from_tuple))# Check Type array"
   ]
  },
  {
   "cell_type": "markdown",
   "id": "af17012f",
   "metadata": {},
   "source": [
    "### Dimensions in Arrays\n",
    "\n",
    "A dimension in arrays is one level of array depth (nested arrays)\n",
    "\n",
    "- Arrays can have one or more dimensions.\n",
    "- One-dimensional arrays are like lists, containing elements arranged in a single row.\n",
    "- Two-dimensional arrays have rows and columns, forming a grid-like structure.\n",
    "- Arrays with three or more dimensions add additional layers of complexity, representing higher-dimensional spaces.\n",
    "- Each dimension adds a level of hierarchy to the array, organizing the data in a structured manner."
   ]
  },
  {
   "cell_type": "code",
   "execution_count": 5,
   "id": "bfc87f84",
   "metadata": {},
   "outputs": [
    {
     "name": "stdout",
     "output_type": "stream",
     "text": [
      "Number of Dimensions : 0\n"
     ]
    }
   ],
   "source": [
    "# Create 0-Dimension Array\n",
    "\n",
    "arr = np.array(42)\n",
    "\n",
    "print(\"Number of Dimensions :\", arr.ndim)"
   ]
  },
  {
   "cell_type": "code",
   "execution_count": 6,
   "id": "3544eeb0",
   "metadata": {},
   "outputs": [
    {
     "name": "stdout",
     "output_type": "stream",
     "text": [
      "[1 2 3]\n",
      "Number of Dimensions : 1\n"
     ]
    }
   ],
   "source": [
    "# Create a 1-Dimension Arrays\n",
    "\n",
    "arr_1 = np.array([1, 2, 3])\n",
    "\n",
    "print(arr_1)\n",
    "print(\"Number of Dimensions :\", arr_1.ndim) #Check how many dimensions the arrays have"
   ]
  },
  {
   "cell_type": "code",
   "execution_count": 7,
   "id": "23eef03e",
   "metadata": {},
   "outputs": [
    {
     "name": "stdout",
     "output_type": "stream",
     "text": [
      "[[1 2 3]\n",
      " [1 2 3]\n",
      " [1 2 3]]\n",
      "Number of Dimensions : 2\n"
     ]
    }
   ],
   "source": [
    "# 2-Dimension Arrays\n",
    "\n",
    "arr_2 = np.array([[1, 2, 3], [1, 2, 3], [1, 2, 3]])\n",
    "\n",
    "print(arr_2)\n",
    "print(\"Number of Dimensions :\", arr_2.ndim) #Check how many dimensions the arrays have"
   ]
  },
  {
   "cell_type": "code",
   "execution_count": 8,
   "id": "4226994b",
   "metadata": {},
   "outputs": [
    {
     "name": "stdout",
     "output_type": "stream",
     "text": [
      "[[[1 2 3]\n",
      "  [1 2 3]]\n",
      "\n",
      " [[1 2 3]\n",
      "  [1 2 3]]\n",
      "\n",
      " [[1 2 3]\n",
      "  [1 2 3]]]\n",
      "Number of Dimensions : 3\n"
     ]
    }
   ],
   "source": [
    "# 3-Dimension Arrays\n",
    "\n",
    "arr_3 = np.array([[[1, 2, 3], [1, 2, 3]], [[1, 2, 3], [1, 2, 3]], [[1, 2, 3], [1, 2, 3]]])\n",
    "\n",
    "print(arr_3)\n",
    "print(\"Number of Dimensions :\", arr_3.ndim) #Check how many dimensions the arrays have"
   ]
  },
  {
   "cell_type": "code",
   "execution_count": 9,
   "id": "8f158730",
   "metadata": {
    "scrolled": true
   },
   "outputs": [
    {
     "name": "stdout",
     "output_type": "stream",
     "text": [
      "[[[[2 6 3 1 5]\n",
      "   [2 3 1 4 1]]\n",
      "\n",
      "  [[9 8 7 6 5]\n",
      "   [4 3 2 1 2]]]\n",
      "\n",
      "\n",
      " [[[2 5 1 2 4]\n",
      "   [6 2 4 2 4]]\n",
      "\n",
      "  [[1 2 6 5 2]\n",
      "   [2 5 1 2 4]]]]\n",
      "Number of Dimensions : 4\n"
     ]
    }
   ],
   "source": [
    "# 4-Dimension Arrays\n",
    "\n",
    "arr4 = np.array([[[[2,6,3,1,5], [2,3,1,4,1]], \n",
    "                  [[9,8,7,6,5], [4,3,2,1,2]]], \n",
    "                 [[[2,5,1,2,4], [6,2,4,2,4]], \n",
    "                  [[1,2,6,5,2], [2,5,1,2,4]]]])\n",
    "\n",
    "print(arr4)\n",
    "print(\"Number of Dimensions :\", arr4.ndim) #Check how many dimensions the arrays have"
   ]
  },
  {
   "cell_type": "markdown",
   "id": "078df2b7",
   "metadata": {},
   "source": [
    "#### Create an array with 5 dimensions and verify that it has 5 dimensions"
   ]
  },
  {
   "cell_type": "code",
   "execution_count": 10,
   "id": "2293bb09",
   "metadata": {},
   "outputs": [
    {
     "name": "stdout",
     "output_type": "stream",
     "text": [
      "[[[[[3 1 2 5]]]]]\n",
      "number of dimensions : 5\n"
     ]
    }
   ],
   "source": [
    "#Create an array with 5 dimensions and verify that it has 5 dimensions\n",
    "arr = np.array([3,1,2,5], ndmin=5) # specifies that the minimum number of dimensions for the array\n",
    "print(arr)\n",
    "print(\"number of dimensions :\", arr.ndim) #Check how many dimensions the arrays have"
   ]
  },
  {
   "cell_type": "markdown",
   "id": "df97e5d7",
   "metadata": {},
   "source": [
    "### Get a Element From Array\n",
    "\n",
    "- To access elements from a NumPy array, you use indexes within square brackets [ ].\n",
    "- Indexes are used to specify the position of the element you want to access in the array.\n",
    "- Can use one index to access elements in a one-dimensional array, two indexes for a two-dimensional array, and so on according to the desired array dimension.\n",
    "- Indexes start from 0, meaning the first element has index 0, the second element has index 1, and so on.\n",
    "- Can also use negative indexes to access elements from the end of the array, with -1 referring to the last element, -2 to the second last, and so on."
   ]
  },
  {
   "cell_type": "code",
   "execution_count": 11,
   "id": "98763494",
   "metadata": {},
   "outputs": [
    {
     "name": "stdout",
     "output_type": "stream",
     "text": [
      "1\n"
     ]
    }
   ],
   "source": [
    "# Get the first eLement from the following array\n",
    "\n",
    "arr = np.array([1, 2, 3, 4])\n",
    "\n",
    "print(arr[0])"
   ]
  },
  {
   "cell_type": "code",
   "execution_count": 12,
   "id": "0ec19fea",
   "metadata": {},
   "outputs": [
    {
     "name": "stdout",
     "output_type": "stream",
     "text": [
      "First eLement : 5\n",
      "Third eLement : 9\n",
      "Result of the addition of First and Third Element : 14\n"
     ]
    }
   ],
   "source": [
    "# Get the first and Third eLement and also add them \n",
    "\n",
    "arr = np.array([5, 7, 9, 2, 1])\n",
    "\n",
    "print(\"First eLement :\", arr[0])\n",
    "print(\"Third eLement :\", arr[2])\n",
    "print(\"Result of the addition of First and Third Element :\", arr[0] + arr[2])"
   ]
  },
  {
   "cell_type": "code",
   "execution_count": 13,
   "id": "4fac76cf",
   "metadata": {},
   "outputs": [
    {
     "name": "stdout",
     "output_type": "stream",
     "text": [
      "2nd element on 1st row: 6\n"
     ]
    }
   ],
   "source": [
    "# Access the eLement the first row, second column\n",
    "\n",
    "arr = np.array([[2, 6, 3, 1, 5], [2,3,1,4,1]])\n",
    "\n",
    "print(\"2nd element on 1st row:\", arr[0, 1]) #[row, element]"
   ]
  },
  {
   "cell_type": "code",
   "execution_count": 14,
   "id": "1b146b7f",
   "metadata": {},
   "outputs": [
    {
     "name": "stdout",
     "output_type": "stream",
     "text": [
      "Third element of the second array of the first array: 7\n"
     ]
    }
   ],
   "source": [
    "# Access the third element of the second array of the first array\n",
    "\n",
    "arr = np.array([[[2, 6, 3, 1, 5], [2,3,1,4,1]], [[9, 8, 7, 6, 5], [4,3,2,1,2]]])\n",
    "\n",
    "print(\"Third element of the second array of the first array:\", arr[1, 0, 2]) #[dim, row, element]"
   ]
  },
  {
   "cell_type": "code",
   "execution_count": 15,
   "id": "fa9a1ca7",
   "metadata": {},
   "outputs": [
    {
     "name": "stdout",
     "output_type": "stream",
     "text": [
      "Last Element from 2nd dim: 7\n"
     ]
    }
   ],
   "source": [
    "# Print the last element from the 2nd dim\n",
    "\n",
    "arr = np.array([[2, 6, 3, 1, 5], [2,3,1,4,7]])\n",
    "\n",
    "print(\"Last Element from 2nd dim:\", arr[1, -1]) #[row, element]"
   ]
  },
  {
   "cell_type": "code",
   "execution_count": 16,
   "id": "72b85cec",
   "metadata": {},
   "outputs": [
    {
     "name": "stdout",
     "output_type": "stream",
     "text": [
      "The element is: 4\n"
     ]
    }
   ],
   "source": [
    "# Gets the fifth element of the first dim in the second array\n",
    "\n",
    "arr4 = np.array([[[[2,6,3,1,5], [2,3,1,4,1]], \n",
    "                  [[9,8,7,6,5], [4,3,2,1,2]]], \n",
    "                 [[[2,5,1,2,4], [6,2,4,2,4]], \n",
    "                  [[1,2,6,5,2], [2,5,1,2,4]]]])\n",
    "\n",
    "element = arr4[1, 0, 0, 4] #[dim1, dim2, row, element]\n",
    "print(\"The element is:\", element)"
   ]
  }
 ],
 "metadata": {
  "kernelspec": {
   "display_name": "Python 3 (ipykernel)",
   "language": "python",
   "name": "python3"
  },
  "language_info": {
   "codemirror_mode": {
    "name": "ipython",
    "version": 3
   },
   "file_extension": ".py",
   "mimetype": "text/x-python",
   "name": "python",
   "nbconvert_exporter": "python",
   "pygments_lexer": "ipython3",
   "version": "3.11.7"
  }
 },
 "nbformat": 4,
 "nbformat_minor": 5
}

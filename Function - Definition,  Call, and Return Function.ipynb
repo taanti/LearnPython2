{
 "cells": [
  {
   "cell_type": "markdown",
   "id": "675699a2",
   "metadata": {},
   "source": [
    "# Function\n",
    "\n",
    "- A function is essentially a procedure that connects an input with an output, akin to a mathematical concept.\n",
    "- In Python, beyond their relational aspect, functions serve as a tool for structuring code to enhance reusability.\n",
    "- Ideally, each function should serve a singular purpose, facilitating its reuse.\n",
    "- While Python offers several built-in functions, users can also craft custom functions tailored to their requirements."
   ]
  },
  {
   "cell_type": "markdown",
   "id": "091af9e2",
   "metadata": {},
   "source": [
    "### Function definition\n",
    "\n",
    "- To define a function, utilize the \"def\" keyword, followed by the function name and its parameters enclosed in parentheses ().\n",
    "- Optionally, include a docstring - a descriptive string that explains the function's purpose.\n",
    "- The function's body begins with a colon and is indented.\n",
    "- Functions execute upon encountering a \"return [expression]\" statement, which sends the expression's value back to the caller.\n",
    "- Alternatively, a function can return no output by using \"return None\"."
   ]
  },
  {
   "cell_type": "markdown",
   "id": "2dc83113",
   "metadata": {},
   "source": [
    "## Definition\n",
    "- To define a function, use the \"def\" keyword, followed by the function name and its parameters enclosed in parentheses ().\n",
    "- Optionally, include a docstring - a descriptive string that explains the function's purpose.\n",
    "- The function's body begins with a colon and is indented."
   ]
  },
  {
   "cell_type": "code",
   "execution_count": 1,
   "id": "81625d70",
   "metadata": {},
   "outputs": [],
   "source": [
    "def celsius_to_fahrenheit(celsius):\n",
    "    fahrenheit = (celsius * 9/5) + 32  # Convert temperature from Celsius to Fahrenheit\n",
    "    return fahrenheit"
   ]
  },
  {
   "cell_type": "code",
   "execution_count": 2,
   "id": "5d59594e",
   "metadata": {},
   "outputs": [
    {
     "data": {
      "text/plain": [
       "176.0"
      ]
     },
     "execution_count": 2,
     "metadata": {},
     "output_type": "execute_result"
    }
   ],
   "source": [
    "celsius_to_fahrenheit(80)"
   ]
  },
  {
   "cell_type": "markdown",
   "id": "7c67f56f",
   "metadata": {},
   "source": [
    "## Call\n",
    "\n",
    "- By default, Python will position each parameter according to the order in which it was registered when defined, and should be called accordingly\n",
    "- To call a function that you have defined, simply write the function name followed by parentheses and the appropriate arguments (if any).\n",
    "- This function call will direct the program to execute the code inside the function."
   ]
  },
  {
   "cell_type": "code",
   "execution_count": 3,
   "id": "bc397ec9",
   "metadata": {},
   "outputs": [],
   "source": [
    "def name(x):\n",
    "    hello = \"Hello {}\".format(x)\n",
    "    return hello"
   ]
  },
  {
   "cell_type": "code",
   "execution_count": 4,
   "id": "d07ebaeb",
   "metadata": {},
   "outputs": [
    {
     "data": {
      "text/plain": [
       "'Hello Akkio'"
      ]
     },
     "execution_count": 4,
     "metadata": {},
     "output_type": "execute_result"
    }
   ],
   "source": [
    "name(\"Akkio\")"
   ]
  },
  {
   "cell_type": "code",
   "execution_count": 5,
   "id": "1bffa5d1",
   "metadata": {},
   "outputs": [
    {
     "data": {
      "text/plain": [
       "'Hello Yosh'"
      ]
     },
     "execution_count": 5,
     "metadata": {},
     "output_type": "execute_result"
    }
   ],
   "source": [
    "name(\"Yosh\")"
   ]
  },
  {
   "cell_type": "markdown",
   "id": "79268edc",
   "metadata": {},
   "source": [
    "## Return\n",
    "\n",
    "- The return [expression] statement will make the program execution exit the seat function, while returning a specific value."
   ]
  },
  {
   "cell_type": "code",
   "execution_count": 6,
   "id": "3194b3c7",
   "metadata": {},
   "outputs": [],
   "source": [
    "def append(x, y):\n",
    "    plus = x + y  # append function\n",
    "    print(\"Total value is {}\".format(plus))  # Correct formatting inside the print function\n",
    "    return plus"
   ]
  },
  {
   "cell_type": "code",
   "execution_count": 7,
   "id": "0d4f9744",
   "metadata": {},
   "outputs": [
    {
     "name": "stdout",
     "output_type": "stream",
     "text": [
      "Total value is 8\n"
     ]
    },
    {
     "data": {
      "text/plain": [
       "8"
      ]
     },
     "execution_count": 7,
     "metadata": {},
     "output_type": "execute_result"
    }
   ],
   "source": [
    "append(3,5)"
   ]
  },
  {
   "cell_type": "code",
   "execution_count": 8,
   "id": "c555823d",
   "metadata": {},
   "outputs": [
    {
     "name": "stdout",
     "output_type": "stream",
     "text": [
      "Total value is 11\n",
      "Total value is 11\n"
     ]
    }
   ],
   "source": [
    "output = append(4,7)\n",
    "print(\"Total value is {}\".format(output))"
   ]
  },
  {
   "cell_type": "markdown",
   "id": "acbaa010",
   "metadata": {},
   "source": [
    "- The return value of a function can be stored in a variable.\n",
    "- This will distinguish a function that returns a value from a function that does not return a value (often referred to as a procedure)."
   ]
  },
  {
   "cell_type": "code",
   "execution_count": 9,
   "id": "324f2698",
   "metadata": {},
   "outputs": [],
   "source": [
    "def celcius_converter(temperature):\n",
    "    fahrenheit = (temperature * 9/5) + 32 # Convert temperature from Celsius to Fahrenheit\n",
    "    celsius = (temperature - 32) * 5/9 # Convert temperature from Fahrenheit to Celsius\n",
    "    kelvin = temperature + 273.15 # Convert temperature from Celsius to Kelvin\n",
    "    return kelvin"
   ]
  },
  {
   "cell_type": "code",
   "execution_count": 10,
   "id": "cd9fd162",
   "metadata": {},
   "outputs": [
    {
     "data": {
      "text/plain": [
       "293.15"
      ]
     },
     "execution_count": 10,
     "metadata": {},
     "output_type": "execute_result"
    }
   ],
   "source": [
    "celcius_converter(20)"
   ]
  },
  {
   "cell_type": "markdown",
   "id": "e13d5af6",
   "metadata": {},
   "source": [
    "Input\n",
    "\n",
    "- input() prompts the user to enter data from the keyboard.\n",
    "- The entered data is then processed by the program.\n",
    "- After receiving the input, the program proceeds with its execution, utilizing the provided input as needed.\n",
    "- This process enables programs to interact with users and accept external data."
   ]
  },
  {
   "cell_type": "code",
   "execution_count": 11,
   "id": "b86dcc8b",
   "metadata": {},
   "outputs": [
    {
     "name": "stdout",
     "output_type": "stream",
     "text": [
      "10\n",
      "Result power three of 10 is 1000\n"
     ]
    }
   ],
   "source": [
    "def power_3(x):\n",
    "    cube = x ** 3\n",
    "    return cube\n",
    "\n",
    "number = int(input().strip())\n",
    "result = power_3(number)\n",
    "print(\"Result power three of {} is {}\".format(number, result))"
   ]
  },
  {
   "cell_type": "markdown",
   "id": "2ddc5097",
   "metadata": {},
   "source": [
    "## Pass by reference vs value\n",
    "\n",
    "- All parameters (arguments) in Python are \"passed by reference\". This means that when we change a variable, the data that references it will also change, both inside the function, and outside the calling function.\n",
    "- Unless we perform an assignment operation that will change the reference parameter."
   ]
  },
  {
   "cell_type": "code",
   "execution_count": 12,
   "id": "5c528ccd",
   "metadata": {},
   "outputs": [
    {
     "name": "stdout",
     "output_type": "stream",
     "text": [
      "Values in the function is [2, [7, 9]]\n"
     ]
    }
   ],
   "source": [
    "def rubah(daftar):\n",
    "    daftar.append([7,9])\n",
    "    print(\"Values in the function is {}\".format(daftar))\n",
    "\n",
    "rubah([2])"
   ]
  },
  {
   "cell_type": "code",
   "execution_count": 13,
   "id": "dcd74c24",
   "metadata": {},
   "outputs": [
    {
     "name": "stdout",
     "output_type": "stream",
     "text": [
      "Values in the function is [4, [7, 9]]\n",
      "Value now : [4, [7, 9]]\n"
     ]
    }
   ],
   "source": [
    "daftar = [4]\n",
    "rubah(daftar)\n",
    "print(\"Value now : {}\".format(daftar))"
   ]
  },
  {
   "cell_type": "markdown",
   "id": "fbfda7f1",
   "metadata": {},
   "source": [
    "However, we must be careful because the assignment of a variable named the same as a parameter means creating a new variable in the local scope and not associated with a global variable."
   ]
  },
  {
   "cell_type": "code",
   "execution_count": 14,
   "id": "20a074ed",
   "metadata": {},
   "outputs": [],
   "source": [
    "def change(list):\n",
    "    list = [3,4]\n",
    "    list.append(5)\n",
    "    print(\"Values {}\".format(list))"
   ]
  },
  {
   "cell_type": "code",
   "execution_count": 15,
   "id": "86b1ebaf",
   "metadata": {},
   "outputs": [
    {
     "name": "stdout",
     "output_type": "stream",
     "text": [
      "Values [3, 4, 5]\n"
     ]
    }
   ],
   "source": [
    "change([200])"
   ]
  },
  {
   "cell_type": "code",
   "execution_count": 16,
   "id": "be54b5ce",
   "metadata": {},
   "outputs": [
    {
     "name": "stdout",
     "output_type": "stream",
     "text": [
      "Values [3, 4, 5]\n"
     ]
    }
   ],
   "source": [
    "list = [2,1]\n",
    "change(list)"
   ]
  },
  {
   "cell_type": "code",
   "execution_count": 17,
   "id": "1250c2dc",
   "metadata": {
    "scrolled": true
   },
   "outputs": [
    {
     "name": "stdout",
     "output_type": "stream",
     "text": [
      "Values [3, 4, 5]\n",
      "Values outside [7, 5]\n"
     ]
    }
   ],
   "source": [
    "list = [7,5]\n",
    "change(list)\n",
    "print(\"Values outside {}\".format(list))"
   ]
  }
 ],
 "metadata": {
  "kernelspec": {
   "display_name": "Python 3 (ipykernel)",
   "language": "python",
   "name": "python3"
  },
  "language_info": {
   "codemirror_mode": {
    "name": "ipython",
    "version": 3
   },
   "file_extension": ".py",
   "mimetype": "text/x-python",
   "name": "python",
   "nbconvert_exporter": "python",
   "pygments_lexer": "ipython3",
   "version": "3.11.7"
  }
 },
 "nbformat": 4,
 "nbformat_minor": 5
}

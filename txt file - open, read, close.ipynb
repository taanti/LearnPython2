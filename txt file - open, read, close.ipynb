{
 "cells": [
  {
   "cell_type": "markdown",
   "id": "ad5ddad3",
   "metadata": {},
   "source": [
    "## Txt File\n",
    "\n",
    "- Open File: Use the open() function with the file name and mode ('r' for reading) to open a text file in Python.\n",
    "- Read File Contents: After opening the file, use methods like read() to read the entire content as a string, readline() to read one line at a time, or readlines() to read all lines into a list.\n",
    "- Close File: It's important to close the file after use using the close() method to free up system resources."
   ]
  },
  {
   "cell_type": "markdown",
   "id": "64a2f343",
   "metadata": {},
   "source": [
    "### Open"
   ]
  },
  {
   "cell_type": "code",
   "execution_count": 1,
   "id": "507604f3",
   "metadata": {},
   "outputs": [],
   "source": [
    "file = open('Dataset/Name.txt', 'r')"
   ]
  },
  {
   "cell_type": "code",
   "execution_count": 2,
   "id": "a67bd986",
   "metadata": {},
   "outputs": [],
   "source": [
    "filecontents = file.read()"
   ]
  },
  {
   "cell_type": "code",
   "execution_count": 3,
   "id": "33093f11",
   "metadata": {},
   "outputs": [
    {
     "name": "stdout",
     "output_type": "stream",
     "text": [
      "Name, Grade\n",
      "Orca, A\n",
      "Bimo, C\n",
      "Tomy, B\n"
     ]
    }
   ],
   "source": [
    "print(filecontents)"
   ]
  },
  {
   "cell_type": "markdown",
   "id": "690a9a18",
   "metadata": {},
   "source": [
    "### Read"
   ]
  },
  {
   "cell_type": "code",
   "execution_count": 4,
   "id": "907d474b",
   "metadata": {},
   "outputs": [],
   "source": [
    "file = open('Dataset/Name.txt', 'r')"
   ]
  },
  {
   "cell_type": "code",
   "execution_count": 5,
   "id": "b5e3aea0",
   "metadata": {},
   "outputs": [
    {
     "name": "stdout",
     "output_type": "stream",
     "text": [
      "Name, Grade\n",
      "\n"
     ]
    }
   ],
   "source": [
    "FirstLine = file.readline()\n",
    "print(FirstLine)"
   ]
  },
  {
   "cell_type": "code",
   "execution_count": 6,
   "id": "3307de07",
   "metadata": {},
   "outputs": [
    {
     "name": "stdout",
     "output_type": "stream",
     "text": [
      "Orca, A\n",
      "\n"
     ]
    }
   ],
   "source": [
    "SecondLine = file.readline()\n",
    "print(SecondLine)"
   ]
  },
  {
   "cell_type": "code",
   "execution_count": 7,
   "id": "8f649c82",
   "metadata": {
    "scrolled": true
   },
   "outputs": [
    {
     "name": "stdout",
     "output_type": "stream",
     "text": [
      "Bimo, C\n",
      "\n"
     ]
    }
   ],
   "source": [
    "ThirdLine = file.readline()\n",
    "print(ThirdLine)"
   ]
  },
  {
   "cell_type": "markdown",
   "id": "a44c0ffc",
   "metadata": {},
   "source": [
    "### Close"
   ]
  },
  {
   "cell_type": "code",
   "execution_count": 8,
   "id": "0e814759",
   "metadata": {},
   "outputs": [],
   "source": [
    "file.close()"
   ]
  }
 ],
 "metadata": {
  "kernelspec": {
   "display_name": "Python 3 (ipykernel)",
   "language": "python",
   "name": "python3"
  },
  "language_info": {
   "codemirror_mode": {
    "name": "ipython",
    "version": 3
   },
   "file_extension": ".py",
   "mimetype": "text/x-python",
   "name": "python",
   "nbconvert_exporter": "python",
   "pygments_lexer": "ipython3",
   "version": "3.11.7"
  }
 },
 "nbformat": 4,
 "nbformat_minor": 5
}

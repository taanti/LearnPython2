{
 "cells": [
  {
   "cell_type": "markdown",
   "id": "dc86a18d",
   "metadata": {},
   "source": [
    "# Pandas\n",
    "\n",
    "Pandas is a powerful open-source data analysis and manipulation library for Python. It provides easy-to-use data structures and functions for efficiently working with structured data such as tabular, time series, and matrix data."
   ]
  },
  {
   "cell_type": "markdown",
   "id": "7aa0d921",
   "metadata": {},
   "source": [
    "### Import Pandas"
   ]
  },
  {
   "cell_type": "code",
   "execution_count": 1,
   "id": "6e347ce0",
   "metadata": {},
   "outputs": [],
   "source": [
    "import pandas as pd #Imports the Pandas library into your Python code with the alias pd\n",
    "import numpy as np #Imports the NumPy  library into your Python code with the alias np"
   ]
  },
  {
   "cell_type": "markdown",
   "id": "67592077",
   "metadata": {},
   "source": [
    "Pandas has two objects, namely series and data frames."
   ]
  },
  {
   "cell_type": "markdown",
   "id": "75a728d1",
   "metadata": {},
   "source": [
    "# Object Series\n",
    "Series objects have one data dimension, they don't have column names because they only have one column... And has an index.."
   ]
  },
  {
   "cell_type": "code",
   "execution_count": 2,
   "id": "3a597456",
   "metadata": {},
   "outputs": [
    {
     "name": "stdout",
     "output_type": "stream",
     "text": [
      "['Arka', 'Tony', 'Stark', 'Mosky']\n"
     ]
    }
   ],
   "source": [
    "name = [\"Arka\", \"Tony\", \"Stark\", \"Mosky\"]\n",
    "print(name)"
   ]
  },
  {
   "cell_type": "code",
   "execution_count": 3,
   "id": "e87e9809",
   "metadata": {},
   "outputs": [
    {
     "data": {
      "text/plain": [
       "0     Arka\n",
       "1     Tony\n",
       "2    Stark\n",
       "3    Mosky\n",
       "dtype: object"
      ]
     },
     "execution_count": 3,
     "metadata": {},
     "output_type": "execute_result"
    }
   ],
   "source": [
    "dataname = pd.Series(name)\n",
    "dataname"
   ]
  },
  {
   "cell_type": "markdown",
   "id": "68124e9d",
   "metadata": {},
   "source": [
    "Change series into array"
   ]
  },
  {
   "cell_type": "code",
   "execution_count": 4,
   "id": "3ffa1be5",
   "metadata": {},
   "outputs": [
    {
     "data": {
      "text/plain": [
       "array(['Arka', 'Tony', 'Stark', 'Mosky'], dtype=object)"
      ]
     },
     "execution_count": 4,
     "metadata": {},
     "output_type": "execute_result"
    }
   ],
   "source": [
    "dataname.values"
   ]
  },
  {
   "cell_type": "markdown",
   "id": "996894a1",
   "metadata": {},
   "source": [
    "Display index\n",
    "\n",
    "In this example, df.index returns a RangeIndex object, indicating that the index labels start from 0 (inclusive) and end at 4 (exclusive), with a step of 1."
   ]
  },
  {
   "cell_type": "code",
   "execution_count": 5,
   "id": "e12eca67",
   "metadata": {},
   "outputs": [
    {
     "data": {
      "text/plain": [
       "RangeIndex(start=0, stop=4, step=1)"
      ]
     },
     "execution_count": 5,
     "metadata": {},
     "output_type": "execute_result"
    }
   ],
   "source": [
    "dataname.index"
   ]
  },
  {
   "cell_type": "markdown",
   "id": "9bd12188",
   "metadata": {},
   "source": [
    "Call data"
   ]
  },
  {
   "cell_type": "code",
   "execution_count": 6,
   "id": "47b612e0",
   "metadata": {},
   "outputs": [
    {
     "data": {
      "text/plain": [
       "'Stark'"
      ]
     },
     "execution_count": 6,
     "metadata": {},
     "output_type": "execute_result"
    }
   ],
   "source": [
    "dataname[2]"
   ]
  },
  {
   "cell_type": "markdown",
   "id": "410e96f8",
   "metadata": {},
   "source": [
    "### Implicit and Explicit index\n",
    "\n",
    "Implicit indexing is Pandas' default, where index labels are automatically generated as integers. Explicit indexing allows you to define custom index labels, ensuring each row has a unique label matching the data points."
   ]
  },
  {
   "cell_type": "code",
   "execution_count": 7,
   "id": "7094f45c",
   "metadata": {},
   "outputs": [
    {
     "data": {
      "text/plain": [
       "a     Arka\n",
       "b     Tony\n",
       "c    Stark\n",
       "d    Mosky\n",
       "dtype: object"
      ]
     },
     "execution_count": 7,
     "metadata": {},
     "output_type": "execute_result"
    }
   ],
   "source": [
    "dataname = pd.Series([\"Arka\", \"Tony\", \"Stark\", \"Mosky\"], index=['a','b','c','d'])\n",
    "dataname"
   ]
  },
  {
   "cell_type": "code",
   "execution_count": 8,
   "id": "b6040937",
   "metadata": {},
   "outputs": [
    {
     "data": {
      "text/plain": [
       "array(['Arka', 'Tony', 'Stark', 'Mosky'], dtype=object)"
      ]
     },
     "execution_count": 8,
     "metadata": {},
     "output_type": "execute_result"
    }
   ],
   "source": [
    "dataname.values"
   ]
  },
  {
   "cell_type": "code",
   "execution_count": 9,
   "id": "e9897249",
   "metadata": {},
   "outputs": [
    {
     "data": {
      "text/plain": [
       "Index(['a', 'b', 'c', 'd'], dtype='object')"
      ]
     },
     "execution_count": 9,
     "metadata": {},
     "output_type": "execute_result"
    }
   ],
   "source": [
    "dataname.index"
   ]
  },
  {
   "cell_type": "markdown",
   "id": "963ed542",
   "metadata": {},
   "source": [
    "Select data"
   ]
  },
  {
   "cell_type": "code",
   "execution_count": 10,
   "id": "055ebf05",
   "metadata": {},
   "outputs": [
    {
     "data": {
      "text/plain": [
       "'Arka'"
      ]
     },
     "execution_count": 10,
     "metadata": {},
     "output_type": "execute_result"
    }
   ],
   "source": [
    "#explicit index\n",
    "\n",
    "dataname['a']"
   ]
  },
  {
   "cell_type": "markdown",
   "id": "347d1326",
   "metadata": {},
   "source": [
    "Even though we have created an explicit index, we can still access its implicit index."
   ]
  },
  {
   "cell_type": "code",
   "execution_count": 11,
   "id": "e47b7d00",
   "metadata": {},
   "outputs": [
    {
     "name": "stderr",
     "output_type": "stream",
     "text": [
      "C:\\Users\\msi bravo\\AppData\\Local\\Temp\\ipykernel_6232\\311089425.py:3: FutureWarning: Series.__getitem__ treating keys as positions is deprecated. In a future version, integer keys will always be treated as labels (consistent with DataFrame behavior). To access a value by position, use `ser.iloc[pos]`\n",
      "  dataname[3]\n"
     ]
    },
    {
     "data": {
      "text/plain": [
       "'Mosky'"
      ]
     },
     "execution_count": 11,
     "metadata": {},
     "output_type": "execute_result"
    }
   ],
   "source": [
    "#implicit index\n",
    "\n",
    "dataname[3]"
   ]
  },
  {
   "cell_type": "markdown",
   "id": "ecf04a86",
   "metadata": {},
   "source": [
    "When the implicit and explicit indexes match, accessing data will return the data associated with the explicit index. This ensures that explicit indexing takes precedence over implicit indexing when accessing data."
   ]
  },
  {
   "cell_type": "code",
   "execution_count": 12,
   "id": "3e0f179f",
   "metadata": {
    "scrolled": true
   },
   "outputs": [
    {
     "data": {
      "text/plain": [
       "1       10\n",
       "3      100\n",
       "5     1000\n",
       "7    10000\n",
       "dtype: int64"
      ]
     },
     "execution_count": 12,
     "metadata": {},
     "output_type": "execute_result"
    }
   ],
   "source": [
    "sameindex = pd.Series([10,100,1000,10000], index=[1,3,5,7])\n",
    "sameindex"
   ]
  },
  {
   "cell_type": "code",
   "execution_count": 13,
   "id": "5964fb81",
   "metadata": {},
   "outputs": [
    {
     "data": {
      "text/plain": [
       "100"
      ]
     },
     "execution_count": 13,
     "metadata": {},
     "output_type": "execute_result"
    }
   ],
   "source": [
    "sameindex[3]"
   ]
  },
  {
   "cell_type": "code",
   "execution_count": 15,
   "id": "16f047f4",
   "metadata": {
    "scrolled": true
   },
   "outputs": [
    {
     "ename": "KeyError",
     "evalue": "0",
     "output_type": "error",
     "traceback": [
      "\u001b[1;31m---------------------------------------------------------------------------\u001b[0m",
      "\u001b[1;31mKeyError\u001b[0m                                  Traceback (most recent call last)",
      "File \u001b[1;32mD:\\Anaconda\\Lib\\site-packages\\pandas\\core\\indexes\\base.py:3791\u001b[0m, in \u001b[0;36mIndex.get_loc\u001b[1;34m(self, key)\u001b[0m\n\u001b[0;32m   3790\u001b[0m \u001b[38;5;28;01mtry\u001b[39;00m:\n\u001b[1;32m-> 3791\u001b[0m     \u001b[38;5;28;01mreturn\u001b[39;00m \u001b[38;5;28mself\u001b[39m\u001b[38;5;241m.\u001b[39m_engine\u001b[38;5;241m.\u001b[39mget_loc(casted_key)\n\u001b[0;32m   3792\u001b[0m \u001b[38;5;28;01mexcept\u001b[39;00m \u001b[38;5;167;01mKeyError\u001b[39;00m \u001b[38;5;28;01mas\u001b[39;00m err:\n",
      "File \u001b[1;32mindex.pyx:152\u001b[0m, in \u001b[0;36mpandas._libs.index.IndexEngine.get_loc\u001b[1;34m()\u001b[0m\n",
      "File \u001b[1;32mindex.pyx:181\u001b[0m, in \u001b[0;36mpandas._libs.index.IndexEngine.get_loc\u001b[1;34m()\u001b[0m\n",
      "File \u001b[1;32mpandas\\_libs\\hashtable_class_helper.pxi:2606\u001b[0m, in \u001b[0;36mpandas._libs.hashtable.Int64HashTable.get_item\u001b[1;34m()\u001b[0m\n",
      "File \u001b[1;32mpandas\\_libs\\hashtable_class_helper.pxi:2630\u001b[0m, in \u001b[0;36mpandas._libs.hashtable.Int64HashTable.get_item\u001b[1;34m()\u001b[0m\n",
      "\u001b[1;31mKeyError\u001b[0m: 0",
      "\nThe above exception was the direct cause of the following exception:\n",
      "\u001b[1;31mKeyError\u001b[0m                                  Traceback (most recent call last)",
      "Cell \u001b[1;32mIn[15], line 3\u001b[0m\n\u001b[0;32m      1\u001b[0m \u001b[38;5;66;03m#tries to find the element with index 0 in the Series, which does not exist.\u001b[39;00m\n\u001b[1;32m----> 3\u001b[0m sameindex[\u001b[38;5;241m0\u001b[39m]\n",
      "File \u001b[1;32mD:\\Anaconda\\Lib\\site-packages\\pandas\\core\\series.py:1040\u001b[0m, in \u001b[0;36mSeries.__getitem__\u001b[1;34m(self, key)\u001b[0m\n\u001b[0;32m   1037\u001b[0m     \u001b[38;5;28;01mreturn\u001b[39;00m \u001b[38;5;28mself\u001b[39m\u001b[38;5;241m.\u001b[39m_values[key]\n\u001b[0;32m   1039\u001b[0m \u001b[38;5;28;01melif\u001b[39;00m key_is_scalar:\n\u001b[1;32m-> 1040\u001b[0m     \u001b[38;5;28;01mreturn\u001b[39;00m \u001b[38;5;28mself\u001b[39m\u001b[38;5;241m.\u001b[39m_get_value(key)\n\u001b[0;32m   1042\u001b[0m \u001b[38;5;66;03m# Convert generator to list before going through hashable part\u001b[39;00m\n\u001b[0;32m   1043\u001b[0m \u001b[38;5;66;03m# (We will iterate through the generator there to check for slices)\u001b[39;00m\n\u001b[0;32m   1044\u001b[0m \u001b[38;5;28;01mif\u001b[39;00m is_iterator(key):\n",
      "File \u001b[1;32mD:\\Anaconda\\Lib\\site-packages\\pandas\\core\\series.py:1156\u001b[0m, in \u001b[0;36mSeries._get_value\u001b[1;34m(self, label, takeable)\u001b[0m\n\u001b[0;32m   1153\u001b[0m     \u001b[38;5;28;01mreturn\u001b[39;00m \u001b[38;5;28mself\u001b[39m\u001b[38;5;241m.\u001b[39m_values[label]\n\u001b[0;32m   1155\u001b[0m \u001b[38;5;66;03m# Similar to Index.get_value, but we do not fall back to positional\u001b[39;00m\n\u001b[1;32m-> 1156\u001b[0m loc \u001b[38;5;241m=\u001b[39m \u001b[38;5;28mself\u001b[39m\u001b[38;5;241m.\u001b[39mindex\u001b[38;5;241m.\u001b[39mget_loc(label)\n\u001b[0;32m   1158\u001b[0m \u001b[38;5;28;01mif\u001b[39;00m is_integer(loc):\n\u001b[0;32m   1159\u001b[0m     \u001b[38;5;28;01mreturn\u001b[39;00m \u001b[38;5;28mself\u001b[39m\u001b[38;5;241m.\u001b[39m_values[loc]\n",
      "File \u001b[1;32mD:\\Anaconda\\Lib\\site-packages\\pandas\\core\\indexes\\base.py:3798\u001b[0m, in \u001b[0;36mIndex.get_loc\u001b[1;34m(self, key)\u001b[0m\n\u001b[0;32m   3793\u001b[0m     \u001b[38;5;28;01mif\u001b[39;00m \u001b[38;5;28misinstance\u001b[39m(casted_key, \u001b[38;5;28mslice\u001b[39m) \u001b[38;5;129;01mor\u001b[39;00m (\n\u001b[0;32m   3794\u001b[0m         \u001b[38;5;28misinstance\u001b[39m(casted_key, abc\u001b[38;5;241m.\u001b[39mIterable)\n\u001b[0;32m   3795\u001b[0m         \u001b[38;5;129;01mand\u001b[39;00m \u001b[38;5;28many\u001b[39m(\u001b[38;5;28misinstance\u001b[39m(x, \u001b[38;5;28mslice\u001b[39m) \u001b[38;5;28;01mfor\u001b[39;00m x \u001b[38;5;129;01min\u001b[39;00m casted_key)\n\u001b[0;32m   3796\u001b[0m     ):\n\u001b[0;32m   3797\u001b[0m         \u001b[38;5;28;01mraise\u001b[39;00m InvalidIndexError(key)\n\u001b[1;32m-> 3798\u001b[0m     \u001b[38;5;28;01mraise\u001b[39;00m \u001b[38;5;167;01mKeyError\u001b[39;00m(key) \u001b[38;5;28;01mfrom\u001b[39;00m \u001b[38;5;21;01merr\u001b[39;00m\n\u001b[0;32m   3799\u001b[0m \u001b[38;5;28;01mexcept\u001b[39;00m \u001b[38;5;167;01mTypeError\u001b[39;00m:\n\u001b[0;32m   3800\u001b[0m     \u001b[38;5;66;03m# If we have a listlike key, _check_indexing_error will raise\u001b[39;00m\n\u001b[0;32m   3801\u001b[0m     \u001b[38;5;66;03m#  InvalidIndexError. Otherwise we fall through and re-raise\u001b[39;00m\n\u001b[0;32m   3802\u001b[0m     \u001b[38;5;66;03m#  the TypeError.\u001b[39;00m\n\u001b[0;32m   3803\u001b[0m     \u001b[38;5;28mself\u001b[39m\u001b[38;5;241m.\u001b[39m_check_indexing_error(key)\n",
      "\u001b[1;31mKeyError\u001b[0m: 0"
     ]
    }
   ],
   "source": [
    "#tries to find the element with index 0 in the Series, which does not exist.\n",
    "\n",
    "sameindex[0]"
   ]
  },
  {
   "cell_type": "markdown",
   "id": "c8ef4087",
   "metadata": {},
   "source": [
    "Note : Use `iloc` if the implicit and explicit indexes match because it will cause an error if not used `iloc`."
   ]
  },
  {
   "cell_type": "markdown",
   "id": "e71c81c1",
   "metadata": {},
   "source": [
    "### Data Slicing"
   ]
  },
  {
   "cell_type": "code",
   "execution_count": 16,
   "id": "4bf2e970",
   "metadata": {},
   "outputs": [
    {
     "data": {
      "text/plain": [
       "b       10\n",
       "c      100\n",
       "e     1000\n",
       "a    10000\n",
       "dtype: int64"
      ]
     },
     "execution_count": 16,
     "metadata": {},
     "output_type": "execute_result"
    }
   ],
   "source": [
    "sameindex = pd.Series([10,100,1000,10000], index=['b','c','e','a'])\n",
    "sameindex"
   ]
  },
  {
   "cell_type": "code",
   "execution_count": 17,
   "id": "ab211ddc",
   "metadata": {},
   "outputs": [
    {
     "data": {
      "text/plain": [
       "c      100\n",
       "e     1000\n",
       "a    10000\n",
       "dtype: int64"
      ]
     },
     "execution_count": 17,
     "metadata": {},
     "output_type": "execute_result"
    }
   ],
   "source": [
    "#for example we will call from data c to data a in custom index\n",
    "sameindex['c': 'a'] #slicing explicit"
   ]
  },
  {
   "cell_type": "code",
   "execution_count": 18,
   "id": "9fc79a70",
   "metadata": {},
   "outputs": [
    {
     "data": {
      "text/plain": [
       "c     100\n",
       "e    1000\n",
       "dtype: int64"
      ]
     },
     "execution_count": 18,
     "metadata": {},
     "output_type": "execute_result"
    }
   ],
   "source": [
    "#But when we slice its implicit index, only the starting point will appear because the implicit index is represented as a range.\n",
    "sameindex[1:3] #index implisit"
   ]
  },
  {
   "cell_type": "markdown",
   "id": "3def3074",
   "metadata": {},
   "source": [
    "### LOC and ILOC\n",
    "\n",
    "In situations where both the explicit and implicit indexes coincide, inconsistencies may arise. To mitigate this, we utilize the loc and iloc methods:\n",
    "\n",
    "- loc(location): This method is employed to access data based on explicit index labels. It ensures retrieval based on the explicitly defined index.\n",
    "- iloc: Conversely, iloc is utilized to access data by implicit (integer) index positions. It ensures retrieval based on the numerical sequence of the index, irrespective of any explicit labels.\n",
    "\n",
    "By adhering to these rules, we can circumvent inconsistencies and accurately retrieve data, regardless of the index type."
   ]
  },
  {
   "cell_type": "code",
   "execution_count": 19,
   "id": "da2aa19a",
   "metadata": {},
   "outputs": [
    {
     "data": {
      "text/plain": [
       "b       10\n",
       "c      100\n",
       "e     1000\n",
       "a    10000\n",
       "dtype: int64"
      ]
     },
     "execution_count": 19,
     "metadata": {},
     "output_type": "execute_result"
    }
   ],
   "source": [
    "sameindex = pd.Series([10,100,1000,10000], index=['b','c','e','a'])\n",
    "sameindex"
   ]
  },
  {
   "cell_type": "markdown",
   "id": "ade95d27",
   "metadata": {},
   "source": [
    "When we access an index then what appears is the explicit index"
   ]
  },
  {
   "cell_type": "code",
   "execution_count": 20,
   "id": "40bbc43f",
   "metadata": {},
   "outputs": [
    {
     "data": {
      "text/plain": [
       "10"
      ]
     },
     "execution_count": 20,
     "metadata": {},
     "output_type": "execute_result"
    }
   ],
   "source": [
    "sameindex['b']"
   ]
  },
  {
   "cell_type": "code",
   "execution_count": 21,
   "id": "c99365e7",
   "metadata": {
    "scrolled": true
   },
   "outputs": [
    {
     "data": {
      "text/plain": [
       "b      10\n",
       "c     100\n",
       "e    1000\n",
       "dtype: int64"
      ]
     },
     "execution_count": 21,
     "metadata": {},
     "output_type": "execute_result"
    }
   ],
   "source": [
    "#Slicing 2 parameter\n",
    "sameindex['b' : 'e']"
   ]
  },
  {
   "cell_type": "markdown",
   "id": "caa32386",
   "metadata": {},
   "source": [
    "#### LOC"
   ]
  },
  {
   "cell_type": "code",
   "execution_count": 22,
   "id": "9670d350",
   "metadata": {},
   "outputs": [
    {
     "data": {
      "text/plain": [
       "10"
      ]
     },
     "execution_count": 22,
     "metadata": {},
     "output_type": "execute_result"
    }
   ],
   "source": [
    "#loc\n",
    "\n",
    "sameindex.loc['b'] #selecting indeks ekspLisit"
   ]
  },
  {
   "cell_type": "code",
   "execution_count": 23,
   "id": "cf925c86",
   "metadata": {},
   "outputs": [
    {
     "data": {
      "text/plain": [
       "b      10\n",
       "c     100\n",
       "e    1000\n",
       "dtype: int64"
      ]
     },
     "execution_count": 23,
     "metadata": {},
     "output_type": "execute_result"
    }
   ],
   "source": [
    "sameindex.loc['b' : 'e'] #slicing indeks eksptisit"
   ]
  },
  {
   "cell_type": "markdown",
   "id": "be39b962",
   "metadata": {},
   "source": [
    "#### ILOC"
   ]
  },
  {
   "cell_type": "code",
   "execution_count": 24,
   "id": "b60d2004",
   "metadata": {},
   "outputs": [
    {
     "data": {
      "text/plain": [
       "10"
      ]
     },
     "execution_count": 24,
     "metadata": {},
     "output_type": "execute_result"
    }
   ],
   "source": [
    "#iloc\n",
    "\n",
    "sameindex.iloc[0] #selecting indeks impLisit"
   ]
  },
  {
   "cell_type": "code",
   "execution_count": 25,
   "id": "b80f498d",
   "metadata": {},
   "outputs": [
    {
     "data": {
      "text/plain": [
       "b     10\n",
       "c    100\n",
       "dtype: int64"
      ]
     },
     "execution_count": 25,
     "metadata": {},
     "output_type": "execute_result"
    }
   ],
   "source": [
    "sameindex.iloc[0:2] #slicing indeks impLisit"
   ]
  },
  {
   "cell_type": "markdown",
   "id": "62daac64",
   "metadata": {},
   "source": [
    "### Dictionary to Series"
   ]
  },
  {
   "cell_type": "code",
   "execution_count": 26,
   "id": "1305df86",
   "metadata": {},
   "outputs": [],
   "source": [
    "dict_price = {\"Book\" : 2500,\n",
    "             \"Eraser\" : 500,\n",
    "             \"Ruler\" : 1200,\n",
    "             \"Pen\" : 1500,\n",
    "             \"Pencil\" : 1000}"
   ]
  },
  {
   "cell_type": "code",
   "execution_count": 27,
   "id": "f80ec96e",
   "metadata": {},
   "outputs": [
    {
     "data": {
      "text/plain": [
       "{'Book': 2500, 'Eraser': 500, 'Ruler': 1200, 'Pen': 1500, 'Pencil': 1000}"
      ]
     },
     "execution_count": 27,
     "metadata": {},
     "output_type": "execute_result"
    }
   ],
   "source": [
    "dict_price"
   ]
  },
  {
   "cell_type": "code",
   "execution_count": 28,
   "id": "e27b39b9",
   "metadata": {},
   "outputs": [],
   "source": [
    "dict_stock = {\"Book\" : 1000,\n",
    "             \"Eraser\" : 200,\n",
    "             \"Ruler\" : 100,\n",
    "             \"Pen\" : 300,\n",
    "             \"Pencil\" : 500}"
   ]
  },
  {
   "cell_type": "code",
   "execution_count": 29,
   "id": "a32f2427",
   "metadata": {},
   "outputs": [
    {
     "data": {
      "text/plain": [
       "{'Book': 1000, 'Eraser': 200, 'Ruler': 100, 'Pen': 300, 'Pencil': 500}"
      ]
     },
     "execution_count": 29,
     "metadata": {},
     "output_type": "execute_result"
    }
   ],
   "source": [
    "dict_stock"
   ]
  },
  {
   "cell_type": "markdown",
   "id": "e3a5c411",
   "metadata": {},
   "source": [
    "#### pd.Series()"
   ]
  },
  {
   "cell_type": "code",
   "execution_count": 30,
   "id": "acc7bd33",
   "metadata": {},
   "outputs": [
    {
     "data": {
      "text/plain": [
       "Book      2500\n",
       "Eraser     500\n",
       "Ruler     1200\n",
       "Pen       1500\n",
       "Pencil    1000\n",
       "dtype: int64"
      ]
     },
     "execution_count": 30,
     "metadata": {},
     "output_type": "execute_result"
    }
   ],
   "source": [
    "#dictionary to series transformation\n",
    "\n",
    "price = pd.Series(dict_price)\n",
    "price"
   ]
  },
  {
   "cell_type": "code",
   "execution_count": 31,
   "id": "a1e1332c",
   "metadata": {},
   "outputs": [
    {
     "data": {
      "text/plain": [
       "Book      1000\n",
       "Eraser     200\n",
       "Ruler      100\n",
       "Pen        300\n",
       "Pencil     500\n",
       "dtype: int64"
      ]
     },
     "execution_count": 31,
     "metadata": {},
     "output_type": "execute_result"
    }
   ],
   "source": [
    "#dictionary to series transformation\n",
    "\n",
    "stock = pd.Series(dict_stock)\n",
    "stock"
   ]
  }
 ],
 "metadata": {
  "kernelspec": {
   "display_name": "Python 3 (ipykernel)",
   "language": "python",
   "name": "python3"
  },
  "language_info": {
   "codemirror_mode": {
    "name": "ipython",
    "version": 3
   },
   "file_extension": ".py",
   "mimetype": "text/x-python",
   "name": "python",
   "nbconvert_exporter": "python",
   "pygments_lexer": "ipython3",
   "version": "3.11.7"
  }
 },
 "nbformat": 4,
 "nbformat_minor": 5
}

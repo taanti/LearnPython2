{
 "cells": [
  {
   "cell_type": "markdown",
   "id": "273e9261",
   "metadata": {},
   "source": [
    "# Datetime\n",
    "\n",
    "Datetime can be used to create date and time objects, access and manipulate date and time information, and perform operations such as adding, subtracting, formatting, and comparing dates and times."
   ]
  },
  {
   "cell_type": "code",
   "execution_count": 1,
   "id": "d10d639d",
   "metadata": {},
   "outputs": [],
   "source": [
    "#Import datetime module\n",
    "\n",
    "import datetime"
   ]
  },
  {
   "cell_type": "code",
   "execution_count": 2,
   "id": "18cdcfe5",
   "metadata": {},
   "outputs": [
    {
     "data": {
      "text/plain": [
       "datetime.datetime(2024, 4, 19, 21, 43, 24, 859249)"
      ]
     },
     "execution_count": 2,
     "metadata": {},
     "output_type": "execute_result"
    }
   ],
   "source": [
    "todaywithTime = datetime.datetime.today() #returns the current datetime object\n",
    "todaywithTime"
   ]
  },
  {
   "cell_type": "code",
   "execution_count": 3,
   "id": "f385b953",
   "metadata": {},
   "outputs": [
    {
     "data": {
      "text/plain": [
       "datetime.date(2024, 4, 19)"
      ]
     },
     "execution_count": 3,
     "metadata": {},
     "output_type": "execute_result"
    }
   ],
   "source": [
    "todaywithoutTime = datetime.date.today() #returns the current date\n",
    "todaywithoutTime"
   ]
  },
  {
   "cell_type": "markdown",
   "id": "0e58b77b",
   "metadata": {},
   "source": [
    "## strftime\n",
    "\n",
    "strftime() converts date and time objects to strings with customizable formats in Python.\n",
    "\n",
    "Example : \n",
    "\n",
    "- %Y: Year with century as a decimal number.\n",
    "- %m: Month as a zero-padded decimal number.\n",
    "- %d: Day of the month as a zero-padded decimal number.\n",
    "- %H: Hour (24-hour clock) as a zero-padded decimal number.\n",
    "- %M: Minute as a zero-padded decimal number.\n",
    "- %S: Second as a zero-padded decimal number."
   ]
  },
  {
   "cell_type": "code",
   "execution_count": 4,
   "id": "e09d2e33",
   "metadata": {},
   "outputs": [
    {
     "name": "stdout",
     "output_type": "stream",
     "text": [
      "At this Date 04-19-2024 i learn about datetime format\n"
     ]
    }
   ],
   "source": [
    "ThisTime = datetime.date.today()\n",
    "DateFormat = datetime.date.strftime(ThisTime, \"%m-%d-%Y\")\n",
    "print(\"At this Date {} i learn about datetime format\".format(DateFormat))"
   ]
  },
  {
   "cell_type": "code",
   "execution_count": 5,
   "id": "4475a345",
   "metadata": {},
   "outputs": [
    {
     "name": "stdout",
     "output_type": "stream",
     "text": [
      "The current time is: 21:43:24\n"
     ]
    }
   ],
   "source": [
    "CurrentTime = datetime.datetime.now()\n",
    "TimeFormat = datetime.datetime.strftime(CurrentTime, \"%H:%M:%S\")\n",
    "print(\"The current time is: {}\".format(TimeFormat))"
   ]
  },
  {
   "cell_type": "code",
   "execution_count": 6,
   "id": "6a9c1cc7",
   "metadata": {},
   "outputs": [
    {
     "name": "stdout",
     "output_type": "stream",
     "text": [
      "The formatted date is: Sat, Jul 15, 2023\n"
     ]
    }
   ],
   "source": [
    "SpecificDate = datetime.datetime(2023, 7, 15)  # Year, Month, Day\n",
    "DateFormat = datetime.datetime.strftime(SpecificDate, \"%a, %b %d, %Y\")\n",
    "print(\"The formatted date is: {}\".format(DateFormat))"
   ]
  }
 ],
 "metadata": {
  "kernelspec": {
   "display_name": "Python 3 (ipykernel)",
   "language": "python",
   "name": "python3"
  },
  "language_info": {
   "codemirror_mode": {
    "name": "ipython",
    "version": 3
   },
   "file_extension": ".py",
   "mimetype": "text/x-python",
   "name": "python",
   "nbconvert_exporter": "python",
   "pygments_lexer": "ipython3",
   "version": "3.11.7"
  }
 },
 "nbformat": 4,
 "nbformat_minor": 5
}

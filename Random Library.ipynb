{
 "cells": [
  {
   "cell_type": "markdown",
   "id": "a661fb5e",
   "metadata": {},
   "source": [
    "# Random Library\n",
    "\n",
    "The random library in Python provides functions for generating random numbers, including integers, floating-point numbers, and selecting random elements from a list.\n",
    "\n",
    "Here are some commonly used functions in the random library:\n",
    "\n",
    "- random(): Generates a random number between 0.0 and 1.0.\n",
    "- randint(a, b): Generates a random integer between a and b (inclusive).\n",
    "- uniform(a, b): Generates a random floating-point number between a and b.\n",
    "- choice(seq): Selects a random element from the sequence seq.\n",
    "- shuffle(seq): Shuffles the elements of the sequence seq."
   ]
  },
  {
   "cell_type": "code",
   "execution_count": 1,
   "id": "28221543",
   "metadata": {},
   "outputs": [],
   "source": [
    "import random"
   ]
  },
  {
   "cell_type": "code",
   "execution_count": 2,
   "id": "9e11b724",
   "metadata": {},
   "outputs": [
    {
     "name": "stdout",
     "output_type": "stream",
     "text": [
      "Random numbers between 0.0 and 1.0:\n",
      "Random number 0 is 27\n",
      "Random number 1 is 15\n",
      "Random number 2 is 17\n",
      "Random number 3 is 19\n",
      "Random number 4 is 29\n",
      "Random number 5 is 18\n",
      "Random number 6 is 29\n",
      "Random number 7 is 24\n",
      "Random number 8 is 23\n",
      "Random number 9 is 16\n"
     ]
    }
   ],
   "source": [
    "# Generate 10 random numbers between 0.0 and 1.0\n",
    "\n",
    "print(\"Random numbers between 0.0 and 1.0:\")\n",
    "for i in range(10):\n",
    "    random_number = random.random()\n",
    "    print(f\"Random number {i} is {random.randint(15.0, 30.0)}\")"
   ]
  },
  {
   "cell_type": "code",
   "execution_count": 3,
   "id": "96e3cebe",
   "metadata": {},
   "outputs": [
    {
     "name": "stdout",
     "output_type": "stream",
     "text": [
      "\n",
      "Random integers between 1 and 10:\n",
      "Random number 0 is 5\n",
      "Random number 1 is 3\n",
      "Random number 2 is 5\n",
      "Random number 3 is 7\n",
      "Random number 4 is 9\n",
      "Random number 5 is 10\n",
      "Random number 6 is 7\n",
      "Random number 7 is 9\n",
      "Random number 8 is 4\n",
      "Random number 9 is 9\n"
     ]
    }
   ],
   "source": [
    "# Generate 10 random integers between 1 and 10\n",
    "\n",
    "print(\"\\nRandom integers between 1 and 10:\")\n",
    "for i in range(10):\n",
    "    random_integer = random.randint(1, 10)\n",
    "    print(f\"Random number {i} is {random_integer}\")"
   ]
  },
  {
   "cell_type": "code",
   "execution_count": 4,
   "id": "301daee7",
   "metadata": {},
   "outputs": [
    {
     "name": "stdout",
     "output_type": "stream",
     "text": [
      "\n",
      "Random floats between 0.0 and 1.0:\n",
      "Random number float 0 is 0.21240262206104932\n",
      "Random number float 1 is 0.14364685317196313\n",
      "Random number float 2 is 0.04198813037881699\n",
      "Random number float 3 is 0.5334552099077183\n",
      "Random number float 4 is 0.6262309089227986\n",
      "Random number float 5 is 0.8815611043143311\n",
      "Random number float 6 is 0.17615353756942242\n",
      "Random number float 7 is 0.28088457353517937\n",
      "Random number float 8 is 0.8961422443207011\n",
      "Random number float 9 is 0.6241877739009483\n"
     ]
    }
   ],
   "source": [
    "# Generate 10 random floating-point numbers between 0.0 and 1.0\n",
    "\n",
    "print(\"\\nRandom floats between 0.0 and 1.0:\")\n",
    "for i in range(10):\n",
    "    random_float = random.uniform(0.0, 1.0)\n",
    "    print(f\"Random number float {i} is {random_float}\")"
   ]
  },
  {
   "cell_type": "code",
   "execution_count": 5,
   "id": "27492cfb",
   "metadata": {},
   "outputs": [
    {
     "name": "stdout",
     "output_type": "stream",
     "text": [
      "\n",
      "Random elements from the list:\n",
      "Random element 0 is apple\n",
      "Random element 1 is cherry\n",
      "Random element 2 is date\n",
      "Random element 3 is banana\n",
      "Random element 4 is cherry\n",
      "Random element 5 is banana\n",
      "Random element 6 is cherry\n",
      "Random element 7 is cherry\n",
      "Random element 8 is date\n",
      "Random element 9 is cherry\n"
     ]
    }
   ],
   "source": [
    "# Select 10 random elements from a list\n",
    "\n",
    "my_list = ['apple', 'banana', 'cherry', 'date']\n",
    "print(\"\\nRandom elements from the list:\")\n",
    "for i in range(10):\n",
    "    random_element = random.choice(my_list)\n",
    "    print(f\"Random element {i} is {random_element}\")"
   ]
  },
  {
   "cell_type": "code",
   "execution_count": 6,
   "id": "0ed332d8",
   "metadata": {},
   "outputs": [
    {
     "name": "stdout",
     "output_type": "stream",
     "text": [
      "Shuffled list: ['date', 'apple', 'banana', 'cherry']\n"
     ]
    }
   ],
   "source": [
    "# Shuffle the elements of a list\n",
    "\n",
    "my_list = ['apple', 'banana', 'cherry', 'date']\n",
    "random.shuffle(my_list)\n",
    "print(\"Shuffled list:\", my_list)"
   ]
  }
 ],
 "metadata": {
  "kernelspec": {
   "display_name": "Python 3 (ipykernel)",
   "language": "python",
   "name": "python3"
  },
  "language_info": {
   "codemirror_mode": {
    "name": "ipython",
    "version": 3
   },
   "file_extension": ".py",
   "mimetype": "text/x-python",
   "name": "python",
   "nbconvert_exporter": "python",
   "pygments_lexer": "ipython3",
   "version": "3.11.7"
  }
 },
 "nbformat": 4,
 "nbformat_minor": 5
}
